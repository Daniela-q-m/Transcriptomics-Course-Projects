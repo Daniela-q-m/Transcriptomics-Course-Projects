{
 "cells": [
  {
   "cell_type": "markdown",
   "id": "272683eb",
   "metadata": {},
   "source": [
    "Daniela Quijano"
   ]
  },
  {
   "cell_type": "markdown",
   "id": "415604ea",
   "metadata": {},
   "source": [
    "Answers to questions:\n",
    "### 1.\tWhat is an R object? (1pt)\n",
    "Data types are treated as objects in R an object is an instance of a class. Each object has specifc attributes and methods that go along with it. Some examples of objects are vectors, lists, matrices, arrays, factors and data frames. \n",
    "### 2.\tHow many ways can data be assigned to an R object? (1pt)\n",
    "A variable can be assigned in three ways:\n",
    "X=1\n",
    "X<-1\n",
    "1->X\n",
    "### 3.\tWhy do you think it is important to ensure that data objects are of the correct type? (1pt)\n",
    "If data objects are not of the same type then R will make a generalized assumption and will force them to be of the same type. We want to make sure data is the correct type to make sure the analysis is correct. \n",
    "### 4.\tWhat is the relationship between vectors, matrices, and data frames? (1pt)\n",
    "A vector is an array of values. A matrix could be thought of as vectors put together in two or more dimensions. A dataframe could be thought of as a matrix but made up of different variables and different data types.\n",
    "### 5.\tWhy might a data frame be more suitable than a matrix for holding heterogeneous biological data? (1pt)\n",
    "You cannot have different datatypes in a matrix. A dataframe allows for the storage of different datatypes. \n"
   ]
  },
  {
   "cell_type": "markdown",
   "id": "f279c9b9",
   "metadata": {},
   "source": [
    "## Part 2"
   ]
  },
  {
   "cell_type": "markdown",
   "id": "afcf14ed",
   "metadata": {},
   "source": [
    "### Create a matrix called transcriptome"
   ]
  },
  {
   "cell_type": "code",
   "execution_count": 159,
   "id": "57b7f1a5",
   "metadata": {
    "scrolled": true
   },
   "outputs": [
    {
     "data": {
      "text/html": [
       "<table>\n",
       "<thead><tr><th></th><th scope=col>Control</th><th scope=col>Nitrogen</th><th scope=col>Phosphate</th><th scope=col>Potassium</th></tr></thead>\n",
       "<tbody>\n",
       "\t<tr><th scope=row>GeneA</th><td>89</td><td>78</td><td>77</td><td>56</td></tr>\n",
       "\t<tr><th scope=row>GeneB</th><td>90</td><td>99</td><td>85</td><td>97</td></tr>\n",
       "\t<tr><th scope=row>GeneC</th><td>78</td><td>94</td><td>99</td><td>87</td></tr>\n",
       "\t<tr><th scope=row>GeneD</th><td>81</td><td>83</td><td>80</td><td>79</td></tr>\n",
       "\t<tr><th scope=row>GeneE</th><td>62</td><td>51</td><td>99</td><td>88</td></tr>\n",
       "</tbody>\n",
       "</table>\n"
      ],
      "text/latex": [
       "\\begin{tabular}{r|llll}\n",
       "  & Control & Nitrogen & Phosphate & Potassium\\\\\n",
       "\\hline\n",
       "\tGeneA & 89 & 78 & 77 & 56\\\\\n",
       "\tGeneB & 90 & 99 & 85 & 97\\\\\n",
       "\tGeneC & 78 & 94 & 99 & 87\\\\\n",
       "\tGeneD & 81 & 83 & 80 & 79\\\\\n",
       "\tGeneE & 62 & 51 & 99 & 88\\\\\n",
       "\\end{tabular}\n"
      ],
      "text/markdown": [
       "\n",
       "| <!--/--> | Control | Nitrogen | Phosphate | Potassium |\n",
       "|---|---|---|---|---|\n",
       "| GeneA | 89 | 78 | 77 | 56 |\n",
       "| GeneB | 90 | 99 | 85 | 97 |\n",
       "| GeneC | 78 | 94 | 99 | 87 |\n",
       "| GeneD | 81 | 83 | 80 | 79 |\n",
       "| GeneE | 62 | 51 | 99 | 88 |\n",
       "\n"
      ],
      "text/plain": [
       "      Control Nitrogen Phosphate Potassium\n",
       "GeneA 89      78       77        56       \n",
       "GeneB 90      99       85        97       \n",
       "GeneC 78      94       99        87       \n",
       "GeneD 81      83       80        79       \n",
       "GeneE 62      51       99        88       "
      ]
     },
     "metadata": {},
     "output_type": "display_data"
    }
   ],
   "source": [
    "#Make vectors with column and row names\n",
    "elements<-c('Control','Nitrogen','Phosphate','Potassium')\n",
    "genes<-c('GeneA','GeneB','GeneC','GeneD','GeneE')\n",
    "\n",
    "#Make vectors with the value of every column\n",
    "Control<-c(89,90,78,81,62)\n",
    "Nitrogen<-c(78,99,94,83,51)\n",
    "Phosphate<-c(77,85,99,80,99)\n",
    "Potassium<-c(56,97,87,79,88)\n",
    "\n",
    "#Create matrix with vectors defined as columns\n",
    "#Name rows and columns with previously defined string vectors, print matrix\n",
    "transcriptome<-matrix(c(Control, Nitrogen, Phosphate, Potassium),nrow=5,ncol=4)\n",
    "colnames(transcriptome)<-elements\n",
    "rownames(transcriptome)<-genes\n",
    "transcriptome"
   ]
  },
  {
   "cell_type": "markdown",
   "id": "90cc99fb",
   "metadata": {},
   "source": [
    "Calculate the Average expression for each gene accross all genes"
   ]
  },
  {
   "cell_type": "code",
   "execution_count": 160,
   "id": "8a6df0cc",
   "metadata": {},
   "outputs": [
    {
     "name": "stdout",
     "output_type": "stream",
     "text": [
      "[1] 75.00 92.75 89.50 80.75 75.00\n"
     ]
    }
   ],
   "source": [
    "#Loop through every row in the matrix and assign the mean to expression_average vector \n",
    "expression_average=numeric()\n",
    "for (i in 1:nrow(transcriptome)){\n",
    "    expression_average[i]=(mean(transcriptome[i,]))  \n",
    "}\n",
    "print(expression_average)"
   ]
  },
  {
   "cell_type": "markdown",
   "id": "cedf5699",
   "metadata": {},
   "source": [
    "### Calculate the average expression for each gene across all experiments."
   ]
  },
  {
   "cell_type": "code",
   "execution_count": 161,
   "id": "8769103d",
   "metadata": {},
   "outputs": [
    {
     "data": {
      "text/html": [
       "<table>\n",
       "<thead><tr><th></th><th scope=col>Control</th><th scope=col>Nitrogen</th><th scope=col>Phosphate</th><th scope=col>Potassium</th><th scope=col>expression_average</th></tr></thead>\n",
       "<tbody>\n",
       "\t<tr><th scope=row>GeneA</th><td>89   </td><td>78   </td><td>77   </td><td>56   </td><td>75.00</td></tr>\n",
       "\t<tr><th scope=row>GeneB</th><td>90   </td><td>99   </td><td>85   </td><td>97   </td><td>92.75</td></tr>\n",
       "\t<tr><th scope=row>GeneC</th><td>78   </td><td>94   </td><td>99   </td><td>87   </td><td>89.50</td></tr>\n",
       "\t<tr><th scope=row>GeneD</th><td>81   </td><td>83   </td><td>80   </td><td>79   </td><td>80.75</td></tr>\n",
       "\t<tr><th scope=row>GeneE</th><td>62   </td><td>51   </td><td>99   </td><td>88   </td><td>75.00</td></tr>\n",
       "</tbody>\n",
       "</table>\n"
      ],
      "text/latex": [
       "\\begin{tabular}{r|lllll}\n",
       "  & Control & Nitrogen & Phosphate & Potassium & expression\\_average\\\\\n",
       "\\hline\n",
       "\tGeneA & 89    & 78    & 77    & 56    & 75.00\\\\\n",
       "\tGeneB & 90    & 99    & 85    & 97    & 92.75\\\\\n",
       "\tGeneC & 78    & 94    & 99    & 87    & 89.50\\\\\n",
       "\tGeneD & 81    & 83    & 80    & 79    & 80.75\\\\\n",
       "\tGeneE & 62    & 51    & 99    & 88    & 75.00\\\\\n",
       "\\end{tabular}\n"
      ],
      "text/markdown": [
       "\n",
       "| <!--/--> | Control | Nitrogen | Phosphate | Potassium | expression_average |\n",
       "|---|---|---|---|---|---|\n",
       "| GeneA | 89    | 78    | 77    | 56    | 75.00 |\n",
       "| GeneB | 90    | 99    | 85    | 97    | 92.75 |\n",
       "| GeneC | 78    | 94    | 99    | 87    | 89.50 |\n",
       "| GeneD | 81    | 83    | 80    | 79    | 80.75 |\n",
       "| GeneE | 62    | 51    | 99    | 88    | 75.00 |\n",
       "\n"
      ],
      "text/plain": [
       "      Control Nitrogen Phosphate Potassium expression_average\n",
       "GeneA 89      78       77        56        75.00             \n",
       "GeneB 90      99       85        97        92.75             \n",
       "GeneC 78      94       99        87        89.50             \n",
       "GeneD 81      83       80        79        80.75             \n",
       "GeneE 62      51       99        88        75.00             "
      ]
     },
     "metadata": {},
     "output_type": "display_data"
    }
   ],
   "source": [
    "#Added expression_average column w/ cbind\n",
    "transcriptome<-cbind(transcriptome, expression_average)\n",
    "transcriptome"
   ]
  },
  {
   "cell_type": "markdown",
   "id": "449047e3",
   "metadata": {},
   "source": [
    "### Sort the matrix so that the gene with the highest expression is on top. "
   ]
  },
  {
   "cell_type": "code",
   "execution_count": 162,
   "id": "1458fde5",
   "metadata": {},
   "outputs": [
    {
     "data": {
      "text/html": [
       "<table>\n",
       "<thead><tr><th></th><th scope=col>Control</th><th scope=col>Nitrogen</th><th scope=col>Phosphate</th><th scope=col>Potassium</th><th scope=col>expression_average</th></tr></thead>\n",
       "<tbody>\n",
       "\t<tr><th scope=row>GeneB</th><td>90   </td><td>99   </td><td>85   </td><td>97   </td><td>92.75</td></tr>\n",
       "\t<tr><th scope=row>GeneC</th><td>78   </td><td>94   </td><td>99   </td><td>87   </td><td>89.50</td></tr>\n",
       "\t<tr><th scope=row>GeneD</th><td>81   </td><td>83   </td><td>80   </td><td>79   </td><td>80.75</td></tr>\n",
       "\t<tr><th scope=row>GeneA</th><td>89   </td><td>78   </td><td>77   </td><td>56   </td><td>75.00</td></tr>\n",
       "\t<tr><th scope=row>GeneE</th><td>62   </td><td>51   </td><td>99   </td><td>88   </td><td>75.00</td></tr>\n",
       "</tbody>\n",
       "</table>\n"
      ],
      "text/latex": [
       "\\begin{tabular}{r|lllll}\n",
       "  & Control & Nitrogen & Phosphate & Potassium & expression\\_average\\\\\n",
       "\\hline\n",
       "\tGeneB & 90    & 99    & 85    & 97    & 92.75\\\\\n",
       "\tGeneC & 78    & 94    & 99    & 87    & 89.50\\\\\n",
       "\tGeneD & 81    & 83    & 80    & 79    & 80.75\\\\\n",
       "\tGeneA & 89    & 78    & 77    & 56    & 75.00\\\\\n",
       "\tGeneE & 62    & 51    & 99    & 88    & 75.00\\\\\n",
       "\\end{tabular}\n"
      ],
      "text/markdown": [
       "\n",
       "| <!--/--> | Control | Nitrogen | Phosphate | Potassium | expression_average |\n",
       "|---|---|---|---|---|---|\n",
       "| GeneB | 90    | 99    | 85    | 97    | 92.75 |\n",
       "| GeneC | 78    | 94    | 99    | 87    | 89.50 |\n",
       "| GeneD | 81    | 83    | 80    | 79    | 80.75 |\n",
       "| GeneA | 89    | 78    | 77    | 56    | 75.00 |\n",
       "| GeneE | 62    | 51    | 99    | 88    | 75.00 |\n",
       "\n"
      ],
      "text/plain": [
       "      Control Nitrogen Phosphate Potassium expression_average\n",
       "GeneB 90      99       85        97        92.75             \n",
       "GeneC 78      94       99        87        89.50             \n",
       "GeneD 81      83       80        79        80.75             \n",
       "GeneA 89      78       77        56        75.00             \n",
       "GeneE 62      51       99        88        75.00             "
      ]
     },
     "metadata": {},
     "output_type": "display_data"
    }
   ],
   "source": [
    "#Gene B has the highest avg expression, sorted in decreasing order, transcriptome assigned to new dataframe, sorted_genes\n",
    "sorted_genes<-transcriptome[order(-expression_average),]\n",
    "sorted_genes"
   ]
  },
  {
   "cell_type": "markdown",
   "id": "6ee62cea",
   "metadata": {},
   "source": [
    "## Part 3"
   ]
  },
  {
   "cell_type": "markdown",
   "id": "74404ef4",
   "metadata": {},
   "source": [
    "### Load the file expvalues.txt into R"
   ]
  },
  {
   "cell_type": "code",
   "execution_count": 163,
   "id": "0b3a9957",
   "metadata": {},
   "outputs": [
    {
     "data": {
      "text/html": [
       "<table>\n",
       "<thead><tr><th></th><th scope=col>Control1</th><th scope=col>Control2</th><th scope=col>Control3</th><th scope=col>Treatment1</th><th scope=col>Treatment2</th><th scope=col>Treatment3</th></tr></thead>\n",
       "<tbody>\n",
       "\t<tr><th scope=row>244901_at</th><td>229.98565</td><td>353.59949</td><td>178.49171</td><td>112.90800</td><td>152.91835</td><td>320.83235</td></tr>\n",
       "\t<tr><th scope=row>244902_at</th><td>171.14980</td><td> 84.45094</td><td> 41.37195</td><td>170.17262</td><td>134.40814</td><td>193.52611</td></tr>\n",
       "\t<tr><th scope=row>244903_at</th><td>314.97768</td><td>373.31250</td><td> 52.90873</td><td>196.30256</td><td>237.51520</td><td>253.37774</td></tr>\n",
       "\t<tr><th scope=row>244904_at</th><td> 24.04366</td><td>175.31604</td><td> 94.68424</td><td> 82.78488</td><td> 18.43639</td><td> 87.00857</td></tr>\n",
       "\t<tr><th scope=row>244905_at</th><td> 15.86923</td><td> 40.04125</td><td> 58.76573</td><td>341.35340</td><td> 16.80135</td><td> 68.94204</td></tr>\n",
       "\t<tr><th scope=row>244906_at</th><td>381.06379</td><td>218.90597</td><td>307.01488</td><td>162.54109</td><td>264.47945</td><td>263.66098</td></tr>\n",
       "</tbody>\n",
       "</table>\n"
      ],
      "text/latex": [
       "\\begin{tabular}{r|llllll}\n",
       "  & Control1 & Control2 & Control3 & Treatment1 & Treatment2 & Treatment3\\\\\n",
       "\\hline\n",
       "\t244901\\_at & 229.98565 & 353.59949 & 178.49171 & 112.90800 & 152.91835 & 320.83235\\\\\n",
       "\t244902\\_at & 171.14980 &  84.45094 &  41.37195 & 170.17262 & 134.40814 & 193.52611\\\\\n",
       "\t244903\\_at & 314.97768 & 373.31250 &  52.90873 & 196.30256 & 237.51520 & 253.37774\\\\\n",
       "\t244904\\_at &  24.04366 & 175.31604 &  94.68424 &  82.78488 &  18.43639 &  87.00857\\\\\n",
       "\t244905\\_at &  15.86923 &  40.04125 &  58.76573 & 341.35340 &  16.80135 &  68.94204\\\\\n",
       "\t244906\\_at & 381.06379 & 218.90597 & 307.01488 & 162.54109 & 264.47945 & 263.66098\\\\\n",
       "\\end{tabular}\n"
      ],
      "text/markdown": [
       "\n",
       "| <!--/--> | Control1 | Control2 | Control3 | Treatment1 | Treatment2 | Treatment3 |\n",
       "|---|---|---|---|---|---|---|\n",
       "| 244901_at | 229.98565 | 353.59949 | 178.49171 | 112.90800 | 152.91835 | 320.83235 |\n",
       "| 244902_at | 171.14980 |  84.45094 |  41.37195 | 170.17262 | 134.40814 | 193.52611 |\n",
       "| 244903_at | 314.97768 | 373.31250 |  52.90873 | 196.30256 | 237.51520 | 253.37774 |\n",
       "| 244904_at |  24.04366 | 175.31604 |  94.68424 |  82.78488 |  18.43639 |  87.00857 |\n",
       "| 244905_at |  15.86923 |  40.04125 |  58.76573 | 341.35340 |  16.80135 |  68.94204 |\n",
       "| 244906_at | 381.06379 | 218.90597 | 307.01488 | 162.54109 | 264.47945 | 263.66098 |\n",
       "\n"
      ],
      "text/plain": [
       "          Control1  Control2  Control3  Treatment1 Treatment2 Treatment3\n",
       "244901_at 229.98565 353.59949 178.49171 112.90800  152.91835  320.83235 \n",
       "244902_at 171.14980  84.45094  41.37195 170.17262  134.40814  193.52611 \n",
       "244903_at 314.97768 373.31250  52.90873 196.30256  237.51520  253.37774 \n",
       "244904_at  24.04366 175.31604  94.68424  82.78488   18.43639   87.00857 \n",
       "244905_at  15.86923  40.04125  58.76573 341.35340   16.80135   68.94204 \n",
       "244906_at 381.06379 218.90597 307.01488 162.54109  264.47945  263.66098 "
      ]
     },
     "metadata": {},
     "output_type": "display_data"
    }
   ],
   "source": [
    "#Read in file as a table. Print first few rows\n",
    "data=read.table('/Users/danielaquijano/Documents/NYU MASTERS/SPRING 2022/Transcriptomics/Source_Files/expvalues.txt',sep='')\n",
    "#head(data)\n",
    "data=as.matrix(data)\n",
    "head(data)"
   ]
  },
  {
   "cell_type": "markdown",
   "id": "01e78a17",
   "metadata": {},
   "source": [
    "### Calculate the mean of the control samples and the mean of the treatment samples for each gene. "
   ]
  },
  {
   "cell_type": "code",
   "execution_count": 164,
   "id": "dc7ab083",
   "metadata": {},
   "outputs": [],
   "source": [
    "groups<-factor(c('control','control','control','experimental','experimental','experimental'))"
   ]
  },
  {
   "cell_type": "code",
   "execution_count": 165,
   "id": "a79ace38",
   "metadata": {},
   "outputs": [
    {
     "data": {
      "text/html": [
       "<table>\n",
       "<thead><tr><th></th><th scope=col>control</th><th scope=col>experimental</th></tr></thead>\n",
       "<tbody>\n",
       "\t<tr><th scope=row>244901_at</th><td>254.02562</td><td>195.55290</td></tr>\n",
       "\t<tr><th scope=row>244902_at</th><td> 98.99090</td><td>166.03562</td></tr>\n",
       "\t<tr><th scope=row>244903_at</th><td>247.06630</td><td>229.06517</td></tr>\n",
       "\t<tr><th scope=row>244904_at</th><td> 98.01465</td><td> 62.74328</td></tr>\n",
       "\t<tr><th scope=row>244905_at</th><td> 38.22541</td><td>142.36560</td></tr>\n",
       "\t<tr><th scope=row>244906_at</th><td>302.32821</td><td>230.22717</td></tr>\n",
       "</tbody>\n",
       "</table>\n"
      ],
      "text/latex": [
       "\\begin{tabular}{r|ll}\n",
       "  & control & experimental\\\\\n",
       "\\hline\n",
       "\t244901\\_at & 254.02562 & 195.55290\\\\\n",
       "\t244902\\_at &  98.99090 & 166.03562\\\\\n",
       "\t244903\\_at & 247.06630 & 229.06517\\\\\n",
       "\t244904\\_at &  98.01465 &  62.74328\\\\\n",
       "\t244905\\_at &  38.22541 & 142.36560\\\\\n",
       "\t244906\\_at & 302.32821 & 230.22717\\\\\n",
       "\\end{tabular}\n"
      ],
      "text/markdown": [
       "\n",
       "| <!--/--> | control | experimental |\n",
       "|---|---|---|\n",
       "| 244901_at | 254.02562 | 195.55290 |\n",
       "| 244902_at |  98.99090 | 166.03562 |\n",
       "| 244903_at | 247.06630 | 229.06517 |\n",
       "| 244904_at |  98.01465 |  62.74328 |\n",
       "| 244905_at |  38.22541 | 142.36560 |\n",
       "| 244906_at | 302.32821 | 230.22717 |\n",
       "\n"
      ],
      "text/plain": [
       "          control   experimental\n",
       "244901_at 254.02562 195.55290   \n",
       "244902_at  98.99090 166.03562   \n",
       "244903_at 247.06630 229.06517   \n",
       "244904_at  98.01465  62.74328   \n",
       "244905_at  38.22541 142.36560   \n",
       "244906_at 302.32821 230.22717   "
      ]
     },
     "metadata": {},
     "output_type": "display_data"
    }
   ],
   "source": [
    "avg_ctrl<-vector()\n",
    "\n",
    "for (i in 1:nrow(data)){\n",
    "    x<-tapply(as.numeric(data[i,]),groups,mean)\n",
    "    avg_ctrl<-rbind(avg_ctrl,x)\n",
    "}\n",
    "\n",
    "rownames(avg_ctrl)<-rownames(data)\n",
    "head(avg_ctrl)"
   ]
  },
  {
   "cell_type": "code",
   "execution_count": 166,
   "id": "2839390d",
   "metadata": {},
   "outputs": [],
   "source": [
    "#This was a test on tapply\n",
    "#test<-t(apply(as.matrix(data), 1, tapply, groups, mean))\n",
    "#print(test)"
   ]
  },
  {
   "cell_type": "markdown",
   "id": "e1c68d96",
   "metadata": {},
   "source": [
    "### Calculate the ratio of average treatment/ average control for each gene. "
   ]
  },
  {
   "cell_type": "code",
   "execution_count": 167,
   "id": "ec41d87a",
   "metadata": {},
   "outputs": [
    {
     "data": {
      "text/html": [
       "<table>\n",
       "<thead><tr><th></th><th scope=col>Control1</th><th scope=col>Control2</th><th scope=col>Control3</th><th scope=col>Treatment1</th><th scope=col>Treatment2</th><th scope=col>Treatment3</th><th scope=col>control</th><th scope=col>experimental</th><th scope=col>ratio</th></tr></thead>\n",
       "<tbody>\n",
       "\t<tr><th scope=row>244901_at</th><td>229.98565</td><td>353.59949</td><td>178.49171</td><td>112.90800</td><td>152.91835</td><td>320.83235</td><td>254.02562</td><td>195.55290</td><td>0.7698157</td></tr>\n",
       "\t<tr><th scope=row>244902_at</th><td>171.14980</td><td> 84.45094</td><td> 41.37195</td><td>170.17262</td><td>134.40814</td><td>193.52611</td><td> 98.99090</td><td>166.03562</td><td>1.6772817</td></tr>\n",
       "\t<tr><th scope=row>244903_at</th><td>314.97768</td><td>373.31250</td><td> 52.90873</td><td>196.30256</td><td>237.51520</td><td>253.37774</td><td>247.06630</td><td>229.06517</td><td>0.9271405</td></tr>\n",
       "\t<tr><th scope=row>244904_at</th><td> 24.04366</td><td>175.31604</td><td> 94.68424</td><td> 82.78488</td><td> 18.43639</td><td> 87.00857</td><td> 98.01465</td><td> 62.74328</td><td>0.6401419</td></tr>\n",
       "\t<tr><th scope=row>244905_at</th><td> 15.86923</td><td> 40.04125</td><td> 58.76573</td><td>341.35340</td><td> 16.80135</td><td> 68.94204</td><td> 38.22541</td><td>142.36560</td><td>3.7243712</td></tr>\n",
       "\t<tr><th scope=row>244906_at</th><td>381.06379</td><td>218.90597</td><td>307.01488</td><td>162.54109</td><td>264.47945</td><td>263.66098</td><td>302.32821</td><td>230.22717</td><td>0.7615140</td></tr>\n",
       "</tbody>\n",
       "</table>\n"
      ],
      "text/latex": [
       "\\begin{tabular}{r|lllllllll}\n",
       "  & Control1 & Control2 & Control3 & Treatment1 & Treatment2 & Treatment3 & control & experimental & ratio\\\\\n",
       "\\hline\n",
       "\t244901\\_at & 229.98565 & 353.59949 & 178.49171 & 112.90800 & 152.91835 & 320.83235 & 254.02562 & 195.55290 & 0.7698157\\\\\n",
       "\t244902\\_at & 171.14980 &  84.45094 &  41.37195 & 170.17262 & 134.40814 & 193.52611 &  98.99090 & 166.03562 & 1.6772817\\\\\n",
       "\t244903\\_at & 314.97768 & 373.31250 &  52.90873 & 196.30256 & 237.51520 & 253.37774 & 247.06630 & 229.06517 & 0.9271405\\\\\n",
       "\t244904\\_at &  24.04366 & 175.31604 &  94.68424 &  82.78488 &  18.43639 &  87.00857 &  98.01465 &  62.74328 & 0.6401419\\\\\n",
       "\t244905\\_at &  15.86923 &  40.04125 &  58.76573 & 341.35340 &  16.80135 &  68.94204 &  38.22541 & 142.36560 & 3.7243712\\\\\n",
       "\t244906\\_at & 381.06379 & 218.90597 & 307.01488 & 162.54109 & 264.47945 & 263.66098 & 302.32821 & 230.22717 & 0.7615140\\\\\n",
       "\\end{tabular}\n"
      ],
      "text/markdown": [
       "\n",
       "| <!--/--> | Control1 | Control2 | Control3 | Treatment1 | Treatment2 | Treatment3 | control | experimental | ratio |\n",
       "|---|---|---|---|---|---|---|---|---|---|\n",
       "| 244901_at | 229.98565 | 353.59949 | 178.49171 | 112.90800 | 152.91835 | 320.83235 | 254.02562 | 195.55290 | 0.7698157 |\n",
       "| 244902_at | 171.14980 |  84.45094 |  41.37195 | 170.17262 | 134.40814 | 193.52611 |  98.99090 | 166.03562 | 1.6772817 |\n",
       "| 244903_at | 314.97768 | 373.31250 |  52.90873 | 196.30256 | 237.51520 | 253.37774 | 247.06630 | 229.06517 | 0.9271405 |\n",
       "| 244904_at |  24.04366 | 175.31604 |  94.68424 |  82.78488 |  18.43639 |  87.00857 |  98.01465 |  62.74328 | 0.6401419 |\n",
       "| 244905_at |  15.86923 |  40.04125 |  58.76573 | 341.35340 |  16.80135 |  68.94204 |  38.22541 | 142.36560 | 3.7243712 |\n",
       "| 244906_at | 381.06379 | 218.90597 | 307.01488 | 162.54109 | 264.47945 | 263.66098 | 302.32821 | 230.22717 | 0.7615140 |\n",
       "\n"
      ],
      "text/plain": [
       "          Control1  Control2  Control3  Treatment1 Treatment2 Treatment3\n",
       "244901_at 229.98565 353.59949 178.49171 112.90800  152.91835  320.83235 \n",
       "244902_at 171.14980  84.45094  41.37195 170.17262  134.40814  193.52611 \n",
       "244903_at 314.97768 373.31250  52.90873 196.30256  237.51520  253.37774 \n",
       "244904_at  24.04366 175.31604  94.68424  82.78488   18.43639   87.00857 \n",
       "244905_at  15.86923  40.04125  58.76573 341.35340   16.80135   68.94204 \n",
       "244906_at 381.06379 218.90597 307.01488 162.54109  264.47945  263.66098 \n",
       "          control   experimental ratio    \n",
       "244901_at 254.02562 195.55290    0.7698157\n",
       "244902_at  98.99090 166.03562    1.6772817\n",
       "244903_at 247.06630 229.06517    0.9271405\n",
       "244904_at  98.01465  62.74328    0.6401419\n",
       "244905_at  38.22541 142.36560    3.7243712\n",
       "244906_at 302.32821 230.22717    0.7615140"
      ]
     },
     "metadata": {},
     "output_type": "display_data"
    }
   ],
   "source": [
    "#Calculate the ratio of average treatment/ average control for each gene, bind ratio to data\n",
    "data<-cbind(data, avg_ctrl)\n",
    "ratio<-data[,8]/data[,7]\n",
    "data<-cbind(data, ratio)\n",
    "head(data)\n"
   ]
  },
  {
   "cell_type": "markdown",
   "id": "115909dd",
   "metadata": {},
   "source": [
    "### Take the log2 of the ratio. "
   ]
  },
  {
   "cell_type": "code",
   "execution_count": 168,
   "id": "8b4f55dd",
   "metadata": {},
   "outputs": [
    {
     "data": {
      "text/html": [
       "<table>\n",
       "<thead><tr><th></th><th scope=col>Control1</th><th scope=col>Control2</th><th scope=col>Control3</th><th scope=col>Treatment1</th><th scope=col>Treatment2</th><th scope=col>Treatment3</th><th scope=col>control</th><th scope=col>experimental</th><th scope=col>ratio</th><th scope=col>ratio_log2</th></tr></thead>\n",
       "<tbody>\n",
       "\t<tr><th scope=row>244901_at</th><td>229.98565 </td><td>353.59949 </td><td>178.49171 </td><td>112.90800 </td><td>152.91835 </td><td>320.83235 </td><td>254.02562 </td><td>195.55290 </td><td>0.7698157 </td><td>-0.3774151</td></tr>\n",
       "\t<tr><th scope=row>244902_at</th><td>171.14980 </td><td> 84.45094 </td><td> 41.37195 </td><td>170.17262 </td><td>134.40814 </td><td>193.52611 </td><td> 98.99090 </td><td>166.03562 </td><td>1.6772817 </td><td> 0.7461250</td></tr>\n",
       "\t<tr><th scope=row>244903_at</th><td>314.97768 </td><td>373.31250 </td><td> 52.90873 </td><td>196.30256 </td><td>237.51520 </td><td>253.37774 </td><td>247.06630 </td><td>229.06517 </td><td>0.9271405 </td><td>-0.1091402</td></tr>\n",
       "\t<tr><th scope=row>244904_at</th><td> 24.04366 </td><td>175.31604 </td><td> 94.68424 </td><td> 82.78488 </td><td> 18.43639 </td><td> 87.00857 </td><td> 98.01465 </td><td> 62.74328 </td><td>0.6401419 </td><td>-0.6435364</td></tr>\n",
       "\t<tr><th scope=row>244905_at</th><td> 15.86923 </td><td> 40.04125 </td><td> 58.76573 </td><td>341.35340 </td><td> 16.80135 </td><td> 68.94204 </td><td> 38.22541 </td><td>142.36560 </td><td>3.7243712 </td><td> 1.8969969</td></tr>\n",
       "\t<tr><th scope=row>244906_at</th><td>381.06379 </td><td>218.90597 </td><td>307.01488 </td><td>162.54109 </td><td>264.47945 </td><td>263.66098 </td><td>302.32821 </td><td>230.22717 </td><td>0.7615140 </td><td>-0.3930575</td></tr>\n",
       "</tbody>\n",
       "</table>\n"
      ],
      "text/latex": [
       "\\begin{tabular}{r|llllllllll}\n",
       "  & Control1 & Control2 & Control3 & Treatment1 & Treatment2 & Treatment3 & control & experimental & ratio & ratio\\_log2\\\\\n",
       "\\hline\n",
       "\t244901\\_at & 229.98565  & 353.59949  & 178.49171  & 112.90800  & 152.91835  & 320.83235  & 254.02562  & 195.55290  & 0.7698157  & -0.3774151\\\\\n",
       "\t244902\\_at & 171.14980  &  84.45094  &  41.37195  & 170.17262  & 134.40814  & 193.52611  &  98.99090  & 166.03562  & 1.6772817  &  0.7461250\\\\\n",
       "\t244903\\_at & 314.97768  & 373.31250  &  52.90873  & 196.30256  & 237.51520  & 253.37774  & 247.06630  & 229.06517  & 0.9271405  & -0.1091402\\\\\n",
       "\t244904\\_at &  24.04366  & 175.31604  &  94.68424  &  82.78488  &  18.43639  &  87.00857  &  98.01465  &  62.74328  & 0.6401419  & -0.6435364\\\\\n",
       "\t244905\\_at &  15.86923  &  40.04125  &  58.76573  & 341.35340  &  16.80135  &  68.94204  &  38.22541  & 142.36560  & 3.7243712  &  1.8969969\\\\\n",
       "\t244906\\_at & 381.06379  & 218.90597  & 307.01488  & 162.54109  & 264.47945  & 263.66098  & 302.32821  & 230.22717  & 0.7615140  & -0.3930575\\\\\n",
       "\\end{tabular}\n"
      ],
      "text/markdown": [
       "\n",
       "| <!--/--> | Control1 | Control2 | Control3 | Treatment1 | Treatment2 | Treatment3 | control | experimental | ratio | ratio_log2 |\n",
       "|---|---|---|---|---|---|---|---|---|---|---|\n",
       "| 244901_at | 229.98565  | 353.59949  | 178.49171  | 112.90800  | 152.91835  | 320.83235  | 254.02562  | 195.55290  | 0.7698157  | -0.3774151 |\n",
       "| 244902_at | 171.14980  |  84.45094  |  41.37195  | 170.17262  | 134.40814  | 193.52611  |  98.99090  | 166.03562  | 1.6772817  |  0.7461250 |\n",
       "| 244903_at | 314.97768  | 373.31250  |  52.90873  | 196.30256  | 237.51520  | 253.37774  | 247.06630  | 229.06517  | 0.9271405  | -0.1091402 |\n",
       "| 244904_at |  24.04366  | 175.31604  |  94.68424  |  82.78488  |  18.43639  |  87.00857  |  98.01465  |  62.74328  | 0.6401419  | -0.6435364 |\n",
       "| 244905_at |  15.86923  |  40.04125  |  58.76573  | 341.35340  |  16.80135  |  68.94204  |  38.22541  | 142.36560  | 3.7243712  |  1.8969969 |\n",
       "| 244906_at | 381.06379  | 218.90597  | 307.01488  | 162.54109  | 264.47945  | 263.66098  | 302.32821  | 230.22717  | 0.7615140  | -0.3930575 |\n",
       "\n"
      ],
      "text/plain": [
       "          Control1  Control2  Control3  Treatment1 Treatment2 Treatment3\n",
       "244901_at 229.98565 353.59949 178.49171 112.90800  152.91835  320.83235 \n",
       "244902_at 171.14980  84.45094  41.37195 170.17262  134.40814  193.52611 \n",
       "244903_at 314.97768 373.31250  52.90873 196.30256  237.51520  253.37774 \n",
       "244904_at  24.04366 175.31604  94.68424  82.78488   18.43639   87.00857 \n",
       "244905_at  15.86923  40.04125  58.76573 341.35340   16.80135   68.94204 \n",
       "244906_at 381.06379 218.90597 307.01488 162.54109  264.47945  263.66098 \n",
       "          control   experimental ratio     ratio_log2\n",
       "244901_at 254.02562 195.55290    0.7698157 -0.3774151\n",
       "244902_at  98.99090 166.03562    1.6772817  0.7461250\n",
       "244903_at 247.06630 229.06517    0.9271405 -0.1091402\n",
       "244904_at  98.01465  62.74328    0.6401419 -0.6435364\n",
       "244905_at  38.22541 142.36560    3.7243712  1.8969969\n",
       "244906_at 302.32821 230.22717    0.7615140 -0.3930575"
      ]
     },
     "metadata": {},
     "output_type": "display_data"
    }
   ],
   "source": [
    "#log2 fold change calculations, bind to data\n",
    "ratio_log2<-log2(ratio)\n",
    "data<-cbind(data, ratio_log2)\n",
    "head(data)"
   ]
  },
  {
   "cell_type": "markdown",
   "id": "96dbb3b7",
   "metadata": {},
   "source": [
    "### How many genes have a log2 fold change > 1 OR < -1 ? "
   ]
  },
  {
   "cell_type": "code",
   "execution_count": 169,
   "id": "696e3aea",
   "metadata": {},
   "outputs": [
    {
     "data": {
      "text/html": [
       "<table>\n",
       "<thead><tr><th></th><th scope=col>Control1</th><th scope=col>Control2</th><th scope=col>Control3</th><th scope=col>Treatment1</th><th scope=col>Treatment2</th><th scope=col>Treatment3</th><th scope=col>control</th><th scope=col>experimental</th><th scope=col>ratio</th><th scope=col>ratio_log2</th></tr></thead>\n",
       "<tbody>\n",
       "\t<tr><th scope=row>244905_at</th><td>15.869235 </td><td>40.04125  </td><td>58.76573  </td><td>341.353405</td><td>16.801354 </td><td> 68.94204 </td><td>38.22541  </td><td>142.36560 </td><td>3.7243712 </td><td> 1.896997 </td></tr>\n",
       "\t<tr><th scope=row>244913_at</th><td>38.116250 </td><td>57.01160  </td><td>50.12533  </td><td> 13.602490</td><td> 8.737703 </td><td> 15.45555 </td><td>48.41772  </td><td> 12.59858 </td><td>0.2602060 </td><td>-1.942274 </td></tr>\n",
       "\t<tr><th scope=row>244914_at</th><td> 9.206320 </td><td>23.66153  </td><td>37.63685  </td><td> 25.381654</td><td> 7.404548 </td><td>130.13789 </td><td>23.50157  </td><td> 54.30803 </td><td>2.3108260 </td><td> 1.208409 </td></tr>\n",
       "\t<tr><th scope=row>244916_at</th><td> 3.371939 </td><td>38.96267  </td><td>16.94395  </td><td> 68.912713</td><td> 2.800184 </td><td> 52.70934 </td><td>19.75952  </td><td> 41.47408 </td><td>2.0989414 </td><td> 1.069662 </td></tr>\n",
       "\t<tr><th scope=row>244917_at</th><td>12.290308 </td><td>16.83069  </td><td>19.14878  </td><td> 48.150699</td><td>10.206957 </td><td> 38.33083 </td><td>16.08993  </td><td> 32.22949 </td><td>2.0030854 </td><td> 1.002224 </td></tr>\n",
       "\t<tr><th scope=row>244925_at</th><td>62.574942 </td><td>85.56751  </td><td>56.25979  </td><td>  9.864841</td><td>41.618571 </td><td> 29.01283 </td><td>68.13408  </td><td> 26.83208 </td><td>0.3938129 </td><td>-1.344418 </td></tr>\n",
       "</tbody>\n",
       "</table>\n"
      ],
      "text/latex": [
       "\\begin{tabular}{r|llllllllll}\n",
       "  & Control1 & Control2 & Control3 & Treatment1 & Treatment2 & Treatment3 & control & experimental & ratio & ratio\\_log2\\\\\n",
       "\\hline\n",
       "\t244905\\_at & 15.869235  & 40.04125   & 58.76573   & 341.353405 & 16.801354  &  68.94204  & 38.22541   & 142.36560  & 3.7243712  &  1.896997 \\\\\n",
       "\t244913\\_at & 38.116250  & 57.01160   & 50.12533   &  13.602490 &  8.737703  &  15.45555  & 48.41772   &  12.59858  & 0.2602060  & -1.942274 \\\\\n",
       "\t244914\\_at &  9.206320  & 23.66153   & 37.63685   &  25.381654 &  7.404548  & 130.13789  & 23.50157   &  54.30803  & 2.3108260  &  1.208409 \\\\\n",
       "\t244916\\_at &  3.371939  & 38.96267   & 16.94395   &  68.912713 &  2.800184  &  52.70934  & 19.75952   &  41.47408  & 2.0989414  &  1.069662 \\\\\n",
       "\t244917\\_at & 12.290308  & 16.83069   & 19.14878   &  48.150699 & 10.206957  &  38.33083  & 16.08993   &  32.22949  & 2.0030854  &  1.002224 \\\\\n",
       "\t244925\\_at & 62.574942  & 85.56751   & 56.25979   &   9.864841 & 41.618571  &  29.01283  & 68.13408   &  26.83208  & 0.3938129  & -1.344418 \\\\\n",
       "\\end{tabular}\n"
      ],
      "text/markdown": [
       "\n",
       "| <!--/--> | Control1 | Control2 | Control3 | Treatment1 | Treatment2 | Treatment3 | control | experimental | ratio | ratio_log2 |\n",
       "|---|---|---|---|---|---|---|---|---|---|---|\n",
       "| 244905_at | 15.869235  | 40.04125   | 58.76573   | 341.353405 | 16.801354  |  68.94204  | 38.22541   | 142.36560  | 3.7243712  |  1.896997  |\n",
       "| 244913_at | 38.116250  | 57.01160   | 50.12533   |  13.602490 |  8.737703  |  15.45555  | 48.41772   |  12.59858  | 0.2602060  | -1.942274  |\n",
       "| 244914_at |  9.206320  | 23.66153   | 37.63685   |  25.381654 |  7.404548  | 130.13789  | 23.50157   |  54.30803  | 2.3108260  |  1.208409  |\n",
       "| 244916_at |  3.371939  | 38.96267   | 16.94395   |  68.912713 |  2.800184  |  52.70934  | 19.75952   |  41.47408  | 2.0989414  |  1.069662  |\n",
       "| 244917_at | 12.290308  | 16.83069   | 19.14878   |  48.150699 | 10.206957  |  38.33083  | 16.08993   |  32.22949  | 2.0030854  |  1.002224  |\n",
       "| 244925_at | 62.574942  | 85.56751   | 56.25979   |   9.864841 | 41.618571  |  29.01283  | 68.13408   |  26.83208  | 0.3938129  | -1.344418  |\n",
       "\n"
      ],
      "text/plain": [
       "          Control1  Control2 Control3 Treatment1 Treatment2 Treatment3 control \n",
       "244905_at 15.869235 40.04125 58.76573 341.353405 16.801354   68.94204  38.22541\n",
       "244913_at 38.116250 57.01160 50.12533  13.602490  8.737703   15.45555  48.41772\n",
       "244914_at  9.206320 23.66153 37.63685  25.381654  7.404548  130.13789  23.50157\n",
       "244916_at  3.371939 38.96267 16.94395  68.912713  2.800184   52.70934  19.75952\n",
       "244917_at 12.290308 16.83069 19.14878  48.150699 10.206957   38.33083  16.08993\n",
       "244925_at 62.574942 85.56751 56.25979   9.864841 41.618571   29.01283  68.13408\n",
       "          experimental ratio     ratio_log2\n",
       "244905_at 142.36560    3.7243712  1.896997 \n",
       "244913_at  12.59858    0.2602060 -1.942274 \n",
       "244914_at  54.30803    2.3108260  1.208409 \n",
       "244916_at  41.47408    2.0989414  1.069662 \n",
       "244917_at  32.22949    2.0030854  1.002224 \n",
       "244925_at  26.83208    0.3938129 -1.344418 "
      ]
     },
     "metadata": {},
     "output_type": "display_data"
    },
    {
     "data": {
      "text/html": [
       "'list'"
      ],
      "text/latex": [
       "'list'"
      ],
      "text/markdown": [
       "'list'"
      ],
      "text/plain": [
       "[1] \"list\""
      ]
     },
     "metadata": {},
     "output_type": "display_data"
    },
    {
     "name": "stdout",
     "output_type": "stream",
     "text": [
      "[1] 22810\n",
      "[1] 4244\n"
     ]
    }
   ],
   "source": [
    "#How many genes have a log2 fold change > 1 OR < -1\n",
    "#subset the data frame, check which rows have an absolute value greater than 1 \n",
    "induced_genes<-as.data.frame(subset(data, data[,\"ratio_log2\"] > 1 | data[,\"ratio_log2\"] < -1))\n",
    "head(induced_genes)\n",
    "typeof(induced_genes)\n",
    "print(nrow(data))\n",
    "print(nrow(induced_genes))\n",
    "#The filtered dataframe only has 4244 genes with expression greater than 1 or less than -1\n"
   ]
  },
  {
   "cell_type": "markdown",
   "id": "19c0a3b8",
   "metadata": {},
   "source": [
    "### Save the names of the genes that have a log2 fold change > 1 into a file called “Induced_genes.txt” "
   ]
  },
  {
   "cell_type": "code",
   "execution_count": 177,
   "id": "a0977fb4",
   "metadata": {},
   "outputs": [
    {
     "data": {
      "text/html": [
       "<table>\n",
       "<thead><tr><th></th><th scope=col>Control1</th><th scope=col>Control2</th><th scope=col>Control3</th><th scope=col>Treatment1</th><th scope=col>Treatment2</th><th scope=col>Treatment3</th><th scope=col>control</th><th scope=col>experimental</th><th scope=col>ratio</th><th scope=col>ratio_log2</th></tr></thead>\n",
       "<tbody>\n",
       "\t<tr><th scope=row>244905_at</th><td> 15.869235</td><td> 40.04125 </td><td>58.76573  </td><td>341.35340 </td><td>16.801354 </td><td> 68.94204 </td><td> 38.22541 </td><td>142.36560 </td><td>3.724371  </td><td>1.896997  </td></tr>\n",
       "\t<tr><th scope=row>244914_at</th><td>  9.206320</td><td> 23.66153 </td><td>37.63685  </td><td> 25.38165 </td><td> 7.404548 </td><td>130.13789 </td><td> 23.50157 </td><td> 54.30803 </td><td>2.310826  </td><td>1.208409  </td></tr>\n",
       "\t<tr><th scope=row>244916_at</th><td>  3.371939</td><td> 38.96267 </td><td>16.94395  </td><td> 68.91271 </td><td> 2.800184 </td><td> 52.70934 </td><td> 19.75952 </td><td> 41.47408 </td><td>2.098941  </td><td>1.069662  </td></tr>\n",
       "\t<tr><th scope=row>244917_at</th><td> 12.290308</td><td> 16.83069 </td><td>19.14878  </td><td> 48.15070 </td><td>10.206957 </td><td> 38.33083 </td><td> 16.08993 </td><td> 32.22949 </td><td>2.003085  </td><td>1.002224  </td></tr>\n",
       "\t<tr><th scope=row>244945_at</th><td>157.299361</td><td>204.15104 </td><td>24.23849  </td><td>552.28230 </td><td>93.524026 </td><td>129.35776 </td><td>128.56296 </td><td>258.38803 </td><td>2.009817  </td><td>1.007064  </td></tr>\n",
       "\t<tr><th scope=row>244956_s_at</th><td> 95.024495</td><td> 40.62732 </td><td>28.03325  </td><td>459.47534 </td><td>92.258511 </td><td> 24.02345 </td><td> 54.56169 </td><td>191.91910 </td><td>3.517470  </td><td>1.814538  </td></tr>\n",
       "</tbody>\n",
       "</table>\n"
      ],
      "text/latex": [
       "\\begin{tabular}{r|llllllllll}\n",
       "  & Control1 & Control2 & Control3 & Treatment1 & Treatment2 & Treatment3 & control & experimental & ratio & ratio\\_log2\\\\\n",
       "\\hline\n",
       "\t244905\\_at &  15.869235 &  40.04125  & 58.76573   & 341.35340  & 16.801354  &  68.94204  &  38.22541  & 142.36560  & 3.724371   & 1.896997  \\\\\n",
       "\t244914\\_at &   9.206320 &  23.66153  & 37.63685   &  25.38165  &  7.404548  & 130.13789  &  23.50157  &  54.30803  & 2.310826   & 1.208409  \\\\\n",
       "\t244916\\_at &   3.371939 &  38.96267  & 16.94395   &  68.91271  &  2.800184  &  52.70934  &  19.75952  &  41.47408  & 2.098941   & 1.069662  \\\\\n",
       "\t244917\\_at &  12.290308 &  16.83069  & 19.14878   &  48.15070  & 10.206957  &  38.33083  &  16.08993  &  32.22949  & 2.003085   & 1.002224  \\\\\n",
       "\t244945\\_at & 157.299361 & 204.15104  & 24.23849   & 552.28230  & 93.524026  & 129.35776  & 128.56296  & 258.38803  & 2.009817   & 1.007064  \\\\\n",
       "\t244956\\_s\\_at &  95.024495 &  40.62732  & 28.03325   & 459.47534  & 92.258511  &  24.02345  &  54.56169  & 191.91910  & 3.517470   & 1.814538  \\\\\n",
       "\\end{tabular}\n"
      ],
      "text/markdown": [
       "\n",
       "| <!--/--> | Control1 | Control2 | Control3 | Treatment1 | Treatment2 | Treatment3 | control | experimental | ratio | ratio_log2 |\n",
       "|---|---|---|---|---|---|---|---|---|---|---|\n",
       "| 244905_at |  15.869235 |  40.04125  | 58.76573   | 341.35340  | 16.801354  |  68.94204  |  38.22541  | 142.36560  | 3.724371   | 1.896997   |\n",
       "| 244914_at |   9.206320 |  23.66153  | 37.63685   |  25.38165  |  7.404548  | 130.13789  |  23.50157  |  54.30803  | 2.310826   | 1.208409   |\n",
       "| 244916_at |   3.371939 |  38.96267  | 16.94395   |  68.91271  |  2.800184  |  52.70934  |  19.75952  |  41.47408  | 2.098941   | 1.069662   |\n",
       "| 244917_at |  12.290308 |  16.83069  | 19.14878   |  48.15070  | 10.206957  |  38.33083  |  16.08993  |  32.22949  | 2.003085   | 1.002224   |\n",
       "| 244945_at | 157.299361 | 204.15104  | 24.23849   | 552.28230  | 93.524026  | 129.35776  | 128.56296  | 258.38803  | 2.009817   | 1.007064   |\n",
       "| 244956_s_at |  95.024495 |  40.62732  | 28.03325   | 459.47534  | 92.258511  |  24.02345  |  54.56169  | 191.91910  | 3.517470   | 1.814538   |\n",
       "\n"
      ],
      "text/plain": [
       "            Control1   Control2  Control3 Treatment1 Treatment2 Treatment3\n",
       "244905_at    15.869235  40.04125 58.76573 341.35340  16.801354   68.94204 \n",
       "244914_at     9.206320  23.66153 37.63685  25.38165   7.404548  130.13789 \n",
       "244916_at     3.371939  38.96267 16.94395  68.91271   2.800184   52.70934 \n",
       "244917_at    12.290308  16.83069 19.14878  48.15070  10.206957   38.33083 \n",
       "244945_at   157.299361 204.15104 24.23849 552.28230  93.524026  129.35776 \n",
       "244956_s_at  95.024495  40.62732 28.03325 459.47534  92.258511   24.02345 \n",
       "            control   experimental ratio    ratio_log2\n",
       "244905_at    38.22541 142.36560    3.724371 1.896997  \n",
       "244914_at    23.50157  54.30803    2.310826 1.208409  \n",
       "244916_at    19.75952  41.47408    2.098941 1.069662  \n",
       "244917_at    16.08993  32.22949    2.003085 1.002224  \n",
       "244945_at   128.56296 258.38803    2.009817 1.007064  \n",
       "244956_s_at  54.56169 191.91910    3.517470 1.814538  "
      ]
     },
     "metadata": {},
     "output_type": "display_data"
    },
    {
     "data": {
      "text/html": [
       "1850"
      ],
      "text/latex": [
       "1850"
      ],
      "text/markdown": [
       "1850"
      ],
      "text/plain": [
       "[1] 1850"
      ]
     },
     "metadata": {},
     "output_type": "display_data"
    }
   ],
   "source": [
    "#Save the names of the genes that have a log2 fold change > 1 into a file called “Induced_genes.txt” \n",
    "#Write.table, separator is space\n",
    "#We can see that now only 1850 genes have a ratio_log2 greater than one \n",
    "filter<-as.data.frame(subset(induced_genes, induced_genes[,\"ratio_log2\"] > 1))\n",
    "head(filter)\n",
    "write.table(filter, file = 'induced_genes.txt', sep = ' ')\n",
    "nrow(filter)"
   ]
  },
  {
   "cell_type": "markdown",
   "id": "b2b1acd8",
   "metadata": {},
   "source": [
    "### Boxplot to show the distribution of values for each induced genes in each experiment"
   ]
  },
  {
   "cell_type": "code",
   "execution_count": 181,
   "id": "cffee52d",
   "metadata": {},
   "outputs": [
    {
     "data": {
      "text/html": [
       "'/Users/danielaquijano/Documents/GitHub/Transcriptomics-Course-Projects'"
      ],
      "text/latex": [
       "'/Users/danielaquijano/Documents/GitHub/Transcriptomics-Course-Projects'"
      ],
      "text/markdown": [
       "'/Users/danielaquijano/Documents/GitHub/Transcriptomics-Course-Projects'"
      ],
      "text/plain": [
       "[1] \"/Users/danielaquijano/Documents/GitHub/Transcriptomics-Course-Projects\""
      ]
     },
     "metadata": {},
     "output_type": "display_data"
    }
   ],
   "source": [
    "getwd()"
   ]
  },
  {
   "cell_type": "code",
   "execution_count": 183,
   "id": "e5997b0c",
   "metadata": {},
   "outputs": [
    {
     "data": {
      "text/html": [
       "<strong>pdf:</strong> 2"
      ],
      "text/latex": [
       "\\textbf{pdf:} 2"
      ],
      "text/markdown": [
       "**pdf:** 2"
      ],
      "text/plain": [
       "pdf \n",
       "  2 "
      ]
     },
     "metadata": {},
     "output_type": "display_data"
    },
    {
     "data": {
      "image/png": "[encoded data removed]",
      "text/plain": [
       "plot without title"
      ]
     },
     "metadata": {
      "image/png": {
       "height": 420,
       "width": 420
      }
     },
     "output_type": "display_data"
    }
   ],
   "source": [
    "#using stack in order to make the boxplot through all columns\n",
    "#ggplot library \n",
    "#For better visualization, changing the scale with y_lim\n",
    "#Saving to pdf file, and closing w/ dev.off()\n",
    "#Printing the plot as well for convenience.\n",
    "library(ggplot2)\n",
    "pdf(file = '/Users/danielaquijano/Documents/GitHub/Transcriptomics-Course-Projects/boxplot.pdf')\n",
    "plot<-ggplot(stack(filter[1:6]), aes(x = ind, y = values)) +\n",
    "  geom_boxplot()+theme_classic()+\n",
    "    labs(title=\"Induced genes\", x=\"Group\", y=\"Gene Expression\")+\n",
    "        coord_cartesian(ylim = c(0, 1000))+\n",
    "            geom_boxplot(outlier.colour = 'purple')\n",
    "\n",
    "dev.off()\n",
    "plot"
   ]
  }
 ],
 "metadata": {
  "kernelspec": {
   "display_name": "R 3.6.3",
   "language": "R",
   "name": "ir35"
  },
  "language_info": {
   "codemirror_mode": "r",
   "file_extension": ".r",
   "mimetype": "text/x-r-source",
   "name": "R",
   "pygments_lexer": "r",
   "version": "3.6.1"
  }
 },
 "nbformat": 4,
 "nbformat_minor": 5
}
