{
 "cells": [
  {
   "cell_type": "raw",
   "id": "84fb6a85",
   "metadata": {},
   "source": [
    "This dataset contains protein coding genes from the mouse genome along with their chromosomal coordinates and GC content. \n",
    "#(Note:Non-standard chromosomes and ~1000 genes longer than 200kb have been removed to make the data easier to work with) \n",
    "# 0. Load required libraries (ggplot and dplyr)\n",
    "# 1.import the \"mousegenes.csv\" file into an object called 'genes'\n",
    "# 2. add a column called 'Length' containing gene lengths (Length=End coordinate minus Start coordinate)\n",
    "# 3. use ggplot to make a histogram of gene lengths (try different bin sizes ~50-100 looks ok)\n",
    "# 4. Since we will be adding more layers to this plot, make the fill color partially transparent so any added layers would be easier to see \n",
    "#(use the alpha command with black color and transparency of 0.25)\n",
    "# 5. store this plot in an object called \"genes_hist\"\n",
    "# 6. Add a dashed red line to \"genes_hist\" showing the the mean length (use the geom_vline command with the options color=\"red\" and linetype=\"dashed\") \n",
    "# 7. Add a dashed blue line at the median so you can see both the mean and the median on the plot. Is the data skewed?\n",
    "# 8. Add a text label to lines calling them \"mean\" and \"median\"  \n",
    "#You can add a text label to the plot at specific x/y coordinates using the annotate command e.g. + annotate(\"text\",y=?,x=?,label=\"?\",color=?)\n",
    "# 9. store this plot as 'genes_hist_labelled'\n",
    "# 10. Find the IQR of gene lengths \n",
    "# 11. calculate the mean and the median of gene lengths again but exclude any data points outside the IQR. Store as mean_iqr and median_iqr\n",
    "#You can either use dplyr or base r to filter datapoints within the iqr \n",
    "# 12. Add the mean and median without outliers as dotted lines to the previously generated histogram \"genes_hist_labelled\"\n",
    "# 13. Calculate the standard deviation for gene lengths and gene GC-content (use the command sd)\n",
    "# 14. Calculate the coefficient of variation to compare the variation in gene lengths with gene GC-content\n",
    "# 15. Use ggplot to make boxplot of gene lengths\n",
    "# 16. Analyze the variation in gene lengths among chromosomes by generating a plot containing separate boxplots for each chromosome"
   ]
  },
  {
   "cell_type": "code",
   "execution_count": 1,
   "id": "3d2ceeea",
   "metadata": {},
   "outputs": [
    {
     "data": {
      "text/html": [
       "<table>\n",
       "<thead><tr><th scope=col>Id</th><th scope=col>Chr</th><th scope=col>Start</th><th scope=col>End</th><th scope=col>GC_Percent</th></tr></thead>\n",
       "<tbody>\n",
       "\t<tr><td>ENSMUSG00000024566</td><td>chr18             </td><td> 80734141         </td><td> 80934060         </td><td>41.03             </td></tr>\n",
       "\t<tr><td>ENSMUSG00000022652</td><td>chr16             </td><td> 48431237         </td><td> 48630900         </td><td>41.38             </td></tr>\n",
       "\t<tr><td>ENSMUSG00000068663</td><td>chr16             </td><td> 10545339         </td><td> 10744878         </td><td>47.38             </td></tr>\n",
       "\t<tr><td>ENSMUSG00000051586</td><td>chr6              </td><td>120931707         </td><td>121130999         </td><td>49.75             </td></tr>\n",
       "\t<tr><td>ENSMUSG00000032263</td><td>chr9              </td><td> 83925145         </td><td> 84124240         </td><td>41.50             </td></tr>\n",
       "\t<tr><td>ENSMUSG00000020672</td><td>chr12             </td><td> 30174482         </td><td> 30373375         </td><td>42.37             </td></tr>\n",
       "</tbody>\n",
       "</table>\n"
      ],
      "text/latex": [
       "\\begin{tabular}{r|lllll}\n",
       " Id & Chr & Start & End & GC\\_Percent\\\\\n",
       "\\hline\n",
       "\t ENSMUSG00000024566 & chr18              &  80734141          &  80934060          & 41.03             \\\\\n",
       "\t ENSMUSG00000022652 & chr16              &  48431237          &  48630900          & 41.38             \\\\\n",
       "\t ENSMUSG00000068663 & chr16              &  10545339          &  10744878          & 47.38             \\\\\n",
       "\t ENSMUSG00000051586 & chr6               & 120931707          & 121130999          & 49.75             \\\\\n",
       "\t ENSMUSG00000032263 & chr9               &  83925145          &  84124240          & 41.50             \\\\\n",
       "\t ENSMUSG00000020672 & chr12              &  30174482          &  30373375          & 42.37             \\\\\n",
       "\\end{tabular}\n"
      ],
      "text/markdown": [
       "\n",
       "| Id | Chr | Start | End | GC_Percent |\n",
       "|---|---|---|---|---|\n",
       "| ENSMUSG00000024566 | chr18              |  80734141          |  80934060          | 41.03              |\n",
       "| ENSMUSG00000022652 | chr16              |  48431237          |  48630900          | 41.38              |\n",
       "| ENSMUSG00000068663 | chr16              |  10545339          |  10744878          | 47.38              |\n",
       "| ENSMUSG00000051586 | chr6               | 120931707          | 121130999          | 49.75              |\n",
       "| ENSMUSG00000032263 | chr9               |  83925145          |  84124240          | 41.50              |\n",
       "| ENSMUSG00000020672 | chr12              |  30174482          |  30373375          | 42.37              |\n",
       "\n"
      ],
      "text/plain": [
       "  Id                 Chr   Start     End       GC_Percent\n",
       "1 ENSMUSG00000024566 chr18  80734141  80934060 41.03     \n",
       "2 ENSMUSG00000022652 chr16  48431237  48630900 41.38     \n",
       "3 ENSMUSG00000068663 chr16  10545339  10744878 47.38     \n",
       "4 ENSMUSG00000051586 chr6  120931707 121130999 49.75     \n",
       "5 ENSMUSG00000032263 chr9   83925145  84124240 41.50     \n",
       "6 ENSMUSG00000020672 chr12  30174482  30373375 42.37     "
      ]
     },
     "metadata": {},
     "output_type": "display_data"
    }
   ],
   "source": [
    "df=read.csv('/Users/danielaquijano/Documents/GitHub/Transcriptomics-Course-Projects/mousegenes.csv')\n",
    "head(df)"
   ]
  },
  {
   "cell_type": "code",
   "execution_count": 2,
   "id": "4a22904e",
   "metadata": {},
   "outputs": [
    {
     "data": {
      "text/html": [
       "<table>\n",
       "<thead><tr><th scope=col>Id</th><th scope=col>Chr</th><th scope=col>Start</th><th scope=col>End</th><th scope=col>GC_Percent</th><th scope=col>Length</th></tr></thead>\n",
       "<tbody>\n",
       "\t<tr><td>ENSMUSG00000024566</td><td>chr18             </td><td> 80734141         </td><td> 80934060         </td><td>41.03             </td><td>199919            </td></tr>\n",
       "\t<tr><td>ENSMUSG00000022652</td><td>chr16             </td><td> 48431237         </td><td> 48630900         </td><td>41.38             </td><td>199663            </td></tr>\n",
       "\t<tr><td>ENSMUSG00000068663</td><td>chr16             </td><td> 10545339         </td><td> 10744878         </td><td>47.38             </td><td>199539            </td></tr>\n",
       "\t<tr><td>ENSMUSG00000051586</td><td>chr6              </td><td>120931707         </td><td>121130999         </td><td>49.75             </td><td>199292            </td></tr>\n",
       "\t<tr><td>ENSMUSG00000032263</td><td>chr9              </td><td> 83925145         </td><td> 84124240         </td><td>41.50             </td><td>199095            </td></tr>\n",
       "\t<tr><td>ENSMUSG00000020672</td><td>chr12             </td><td> 30174482         </td><td> 30373375         </td><td>42.37             </td><td>198893            </td></tr>\n",
       "</tbody>\n",
       "</table>\n"
      ],
      "text/latex": [
       "\\begin{tabular}{r|llllll}\n",
       " Id & Chr & Start & End & GC\\_Percent & Length\\\\\n",
       "\\hline\n",
       "\t ENSMUSG00000024566 & chr18              &  80734141          &  80934060          & 41.03              & 199919            \\\\\n",
       "\t ENSMUSG00000022652 & chr16              &  48431237          &  48630900          & 41.38              & 199663            \\\\\n",
       "\t ENSMUSG00000068663 & chr16              &  10545339          &  10744878          & 47.38              & 199539            \\\\\n",
       "\t ENSMUSG00000051586 & chr6               & 120931707          & 121130999          & 49.75              & 199292            \\\\\n",
       "\t ENSMUSG00000032263 & chr9               &  83925145          &  84124240          & 41.50              & 199095            \\\\\n",
       "\t ENSMUSG00000020672 & chr12              &  30174482          &  30373375          & 42.37              & 198893            \\\\\n",
       "\\end{tabular}\n"
      ],
      "text/markdown": [
       "\n",
       "| Id | Chr | Start | End | GC_Percent | Length |\n",
       "|---|---|---|---|---|---|\n",
       "| ENSMUSG00000024566 | chr18              |  80734141          |  80934060          | 41.03              | 199919             |\n",
       "| ENSMUSG00000022652 | chr16              |  48431237          |  48630900          | 41.38              | 199663             |\n",
       "| ENSMUSG00000068663 | chr16              |  10545339          |  10744878          | 47.38              | 199539             |\n",
       "| ENSMUSG00000051586 | chr6               | 120931707          | 121130999          | 49.75              | 199292             |\n",
       "| ENSMUSG00000032263 | chr9               |  83925145          |  84124240          | 41.50              | 199095             |\n",
       "| ENSMUSG00000020672 | chr12              |  30174482          |  30373375          | 42.37              | 198893             |\n",
       "\n"
      ],
      "text/plain": [
       "  Id                 Chr   Start     End       GC_Percent Length\n",
       "1 ENSMUSG00000024566 chr18  80734141  80934060 41.03      199919\n",
       "2 ENSMUSG00000022652 chr16  48431237  48630900 41.38      199663\n",
       "3 ENSMUSG00000068663 chr16  10545339  10744878 47.38      199539\n",
       "4 ENSMUSG00000051586 chr6  120931707 121130999 49.75      199292\n",
       "5 ENSMUSG00000032263 chr9   83925145  84124240 41.50      199095\n",
       "6 ENSMUSG00000020672 chr12  30174482  30373375 42.37      198893"
      ]
     },
     "metadata": {},
     "output_type": "display_data"
    }
   ],
   "source": [
    "#Find the length of each gene by subtracting Start from End range\n",
    "#Add new Column to df\n",
    "Length<-df$End-df$Start\n",
    "df<-cbind(df, Length)\n",
    "head(df)\n"
   ]
  },
  {
   "cell_type": "code",
   "execution_count": 12,
   "id": "4eb64837",
   "metadata": {},
   "outputs": [
    {
     "ename": "ERROR",
     "evalue": "Error in parse(text = x, srcfile = src): <text>:3:9: unexpected symbol\n2: ##install.packages('rlang')\n3: ! conda install\n           ^\n",
     "output_type": "error",
     "traceback": [
      "Error in parse(text = x, srcfile = src): <text>:3:9: unexpected symbol\n2: ##install.packages('rlang')\n3: ! conda install\n           ^\nTraceback:\n"
     ]
    }
   ],
   "source": [
    "#Use ggplot2 to make a histogram of the gene Lengths\n",
    "##install.packages('rlang')\n",
    "conda install -c conda-forge r-ggplot2"
   ]
  },
  {
   "cell_type": "code",
   "execution_count": null,
   "id": "93f1d189",
   "metadata": {},
   "outputs": [
    {
     "name": "stderr",
     "output_type": "stream",
     "text": [
      "also installing the dependencies ‘proxy’, ‘png’, ‘jpeg’, ‘checkmate’, ‘e1071’, ‘wk’, ‘pillar’, ‘vctrs’, ‘systemfonts’, ‘textshaping’, ‘glue’, ‘rlang’, ‘tidyselect’, ‘survival’, ‘latticeExtra’, ‘htmlTable’, ‘viridis’, ‘deldir’, ‘RcppEigen’, ‘sp’, ‘mvtnorm’, ‘SparseM’, ‘classInt’, ‘s2’, ‘units’, ‘tibble’, ‘covr’, ‘ragg’, ‘dplyr’, ‘Hmisc’, ‘interp’, ‘mapproj’, ‘maptools’, ‘multcomp’, ‘profvis’, ‘quantreg’, ‘rgeos’, ‘sf’, ‘svglite’, ‘vdiffr’\n",
      "\n",
      "\n"
     ]
    }
   ],
   "source": [
    "install.packages('ggplot2', dep = TRUE) "
   ]
  },
  {
   "cell_type": "code",
   "execution_count": null,
   "id": "dd0a88db",
   "metadata": {},
   "outputs": [],
   "source": []
  }
 ],
 "metadata": {
  "kernelspec": {
   "display_name": "R 3.6.3",
   "language": "R",
   "name": "ir35"
  },
  "language_info": {
   "codemirror_mode": "r",
   "file_extension": ".r",
   "mimetype": "text/x-r-source",
   "name": "R",
   "pygments_lexer": "r",
   "version": "3.6.1"
  }
 },
 "nbformat": 4,
 "nbformat_minor": 5
}
