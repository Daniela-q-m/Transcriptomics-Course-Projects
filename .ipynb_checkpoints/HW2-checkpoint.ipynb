{
 "cells": [
  {
   "cell_type": "markdown",
   "id": "ad709740",
   "metadata": {},
   "source": [
    "1. What\tdo\twe\tmean\tby\tthe\t“distribution”\tof\tthe\tdata?\n",
    "2. Why\tis\tit\timportant\tto\tknow\tthe\tvariance\tand\tstandard\terror\tof\ta\tstatistic\tfor sample\tdata?\tHow\tdo\twe\tcalculate\tthese\tvalues\tin\tR?\n",
    "3. What\tare\tthe\tdifferences\tbetween\tthe\tvarieties\tof\ttwo-sample\tt-tests,\tand\thow can we\twhich\tto\tuse\tand\thow\tdo\twe\ttell\tR\thow\tto\tapply\tthe\tcorrect\ttest\tusing\tt-test()?\n",
    "4. What\tis\tthe\tR\tfunction\tfor\ta\tnonparametric\tequivalent\tto\ta\ttwo-sample\tt-test?\n",
    "5. What statistical is more appropriate when you want to identify interactions between multiple factors ?"
   ]
  },
  {
   "cell_type": "code",
   "execution_count": 14,
   "id": "8dff68c2",
   "metadata": {},
   "outputs": [
    {
     "data": {
      "text/html": [
       "<table>\n",
       "<thead><tr><th></th><th scope=col>Control1</th><th scope=col>Control2</th><th scope=col>Control3</th><th scope=col>Treatment1</th><th scope=col>Treatment2</th><th scope=col>Treatment3</th></tr></thead>\n",
       "<tbody>\n",
       "\t<tr><th scope=row>244901_at</th><td>229.98565</td><td>353.59949</td><td>178.49171</td><td>112.90800</td><td>152.91835</td><td>320.83235</td></tr>\n",
       "\t<tr><th scope=row>244902_at</th><td>171.14980</td><td> 84.45094</td><td> 41.37195</td><td>170.17262</td><td>134.40814</td><td>193.52611</td></tr>\n",
       "\t<tr><th scope=row>244903_at</th><td>314.97768</td><td>373.31250</td><td> 52.90873</td><td>196.30256</td><td>237.51520</td><td>253.37774</td></tr>\n",
       "\t<tr><th scope=row>244904_at</th><td> 24.04366</td><td>175.31604</td><td> 94.68424</td><td> 82.78488</td><td> 18.43639</td><td> 87.00857</td></tr>\n",
       "\t<tr><th scope=row>244905_at</th><td> 15.86923</td><td> 40.04125</td><td> 58.76573</td><td>341.35340</td><td> 16.80135</td><td> 68.94204</td></tr>\n",
       "\t<tr><th scope=row>244906_at</th><td>381.06379</td><td>218.90597</td><td>307.01488</td><td>162.54109</td><td>264.47945</td><td>263.66098</td></tr>\n",
       "</tbody>\n",
       "</table>\n"
      ],
      "text/latex": [
       "\\begin{tabular}{r|llllll}\n",
       "  & Control1 & Control2 & Control3 & Treatment1 & Treatment2 & Treatment3\\\\\n",
       "\\hline\n",
       "\t244901\\_at & 229.98565 & 353.59949 & 178.49171 & 112.90800 & 152.91835 & 320.83235\\\\\n",
       "\t244902\\_at & 171.14980 &  84.45094 &  41.37195 & 170.17262 & 134.40814 & 193.52611\\\\\n",
       "\t244903\\_at & 314.97768 & 373.31250 &  52.90873 & 196.30256 & 237.51520 & 253.37774\\\\\n",
       "\t244904\\_at &  24.04366 & 175.31604 &  94.68424 &  82.78488 &  18.43639 &  87.00857\\\\\n",
       "\t244905\\_at &  15.86923 &  40.04125 &  58.76573 & 341.35340 &  16.80135 &  68.94204\\\\\n",
       "\t244906\\_at & 381.06379 & 218.90597 & 307.01488 & 162.54109 & 264.47945 & 263.66098\\\\\n",
       "\\end{tabular}\n"
      ],
      "text/markdown": [
       "\n",
       "| <!--/--> | Control1 | Control2 | Control3 | Treatment1 | Treatment2 | Treatment3 |\n",
       "|---|---|---|---|---|---|---|\n",
       "| 244901_at | 229.98565 | 353.59949 | 178.49171 | 112.90800 | 152.91835 | 320.83235 |\n",
       "| 244902_at | 171.14980 |  84.45094 |  41.37195 | 170.17262 | 134.40814 | 193.52611 |\n",
       "| 244903_at | 314.97768 | 373.31250 |  52.90873 | 196.30256 | 237.51520 | 253.37774 |\n",
       "| 244904_at |  24.04366 | 175.31604 |  94.68424 |  82.78488 |  18.43639 |  87.00857 |\n",
       "| 244905_at |  15.86923 |  40.04125 |  58.76573 | 341.35340 |  16.80135 |  68.94204 |\n",
       "| 244906_at | 381.06379 | 218.90597 | 307.01488 | 162.54109 | 264.47945 | 263.66098 |\n",
       "\n"
      ],
      "text/plain": [
       "          Control1  Control2  Control3  Treatment1 Treatment2 Treatment3\n",
       "244901_at 229.98565 353.59949 178.49171 112.90800  152.91835  320.83235 \n",
       "244902_at 171.14980  84.45094  41.37195 170.17262  134.40814  193.52611 \n",
       "244903_at 314.97768 373.31250  52.90873 196.30256  237.51520  253.37774 \n",
       "244904_at  24.04366 175.31604  94.68424  82.78488   18.43639   87.00857 \n",
       "244905_at  15.86923  40.04125  58.76573 341.35340   16.80135   68.94204 \n",
       "244906_at 381.06379 218.90597 307.01488 162.54109  264.47945  263.66098 "
      ]
     },
     "metadata": {},
     "output_type": "display_data"
    },
    {
     "data": {
      "text/html": [
       "<dl class=dl-horizontal>\n",
       "\t<dt>Control1</dt>\n",
       "\t\t<dd>314.97768375798</dd>\n",
       "\t<dt>Control2</dt>\n",
       "\t\t<dd>373.312499737307</dd>\n",
       "\t<dt>Control3</dt>\n",
       "\t\t<dd>52.9087305576548</dd>\n",
       "\t<dt>Treatment1</dt>\n",
       "\t\t<dd>196.3025592719</dd>\n",
       "\t<dt>Treatment2</dt>\n",
       "\t\t<dd>237.515203923717</dd>\n",
       "\t<dt>Treatment3</dt>\n",
       "\t\t<dd>253.377736007682</dd>\n",
       "</dl>\n"
      ],
      "text/latex": [
       "\\begin{description*}\n",
       "\\item[Control1] 314.97768375798\n",
       "\\item[Control2] 373.312499737307\n",
       "\\item[Control3] 52.9087305576548\n",
       "\\item[Treatment1] 196.3025592719\n",
       "\\item[Treatment2] 237.515203923717\n",
       "\\item[Treatment3] 253.377736007682\n",
       "\\end{description*}\n"
      ],
      "text/markdown": [
       "Control1\n",
       ":   314.97768375798Control2\n",
       ":   373.312499737307Control3\n",
       ":   52.9087305576548Treatment1\n",
       ":   196.3025592719Treatment2\n",
       ":   237.515203923717Treatment3\n",
       ":   253.377736007682\n",
       "\n"
      ],
      "text/plain": [
       "  Control1   Control2   Control3 Treatment1 Treatment2 Treatment3 \n",
       " 314.97768  373.31250   52.90873  196.30256  237.51520  253.37774 "
      ]
     },
     "metadata": {},
     "output_type": "display_data"
    }
   ],
   "source": [
    "#Read in file as a table. Print first few rows\n",
    "df=read.table('/Users/danielaquijano/Documents/NYU MASTERS/SPRING 2022/Transcriptomics/Source_Files/expvalues.txt',sep='')\n",
    "#head(data)\n",
    "df=as.matrix(df)\n",
    "head(df)\n",
    "df[3,1:6]"
   ]
  },
  {
   "cell_type": "code",
   "execution_count": null,
   "id": "7cd96aca",
   "metadata": {},
   "outputs": [],
   "source": [
    "#Write a function to calculate log(treatment/control) for each gene\n",
    "#Inputs are expgroups factor and a row from df, as a vector of expression values\n",
    "log_ratio<-function(rows){\n",
    "    \n",
    "    for (i in 1:nrow(data)){\n",
    "        x<-tapply(as.numeric(data[i,]),groups,mean)\n",
    "        avg_ctrl<-rbind(avg_ctrl,x)\n",
    "}\n",
    "\n",
    "rownames(avg_ctrl)<-rownames(data)\n",
    "head(avg_ctrl\n",
    "    \n",
    "    \n",
    "}"
   ]
  },
  {
   "cell_type": "code",
   "execution_count": null,
   "id": "82b4e62a",
   "metadata": {},
   "outputs": [],
   "source": [
    "avg_ctrl<-vector()\n",
    "\n",
    "for (i in 1:nrow(data)){\n",
    "    x<-tapply(as.numeric(data[i,]),groups,mean)\n",
    "    avg_ctrl<-rbind(avg_ctrl,x)\n",
    "}\n",
    "\n",
    "rownames(avg_ctrl)<-rownames(data)\n",
    "head(avg_ctrl)"
   ]
  },
  {
   "cell_type": "code",
   "execution_count": 18,
   "id": "ae8e0d14",
   "metadata": {},
   "outputs": [
    {
     "ename": "ERROR",
     "evalue": "Error in df[, 8]: subscript out of bounds\n",
     "output_type": "error",
     "traceback": [
      "Error in df[, 8]: subscript out of bounds\nTraceback:\n"
     ]
    }
   ],
   "source": [
    "#Calculate log(treatment/control) for each group\n",
    "groups<-factor(c('control','control','control','experimental','experimental','experimental'))\n",
    "avg<-vector()\n",
    "\n",
    "for (i in 1:nrow(df)){\n",
    "    x<-tapply(as.numeric(df[i,]),groups,mean)\n",
    "    avg<-rbind(avg,x)\n",
    "}\n",
    "\n",
    "rownames(avg)<-rownames(df)\n",
    "data<-cbind(df, avg)\n",
    "ratio<-df[,8]/df[,7]\n",
    "data<-cbind(df, ratio)\n",
    "head(df)"
   ]
  },
  {
   "cell_type": "code",
   "execution_count": null,
   "id": "31c6b09e",
   "metadata": {},
   "outputs": [],
   "source": [
    "#a function getTtestPvalue that performs a two-sample t-test comparing the control values to treatmentvalues for a given gene\n"
   ]
  },
  {
   "cell_type": "code",
   "execution_count": null,
   "id": "a6a2c109",
   "metadata": {},
   "outputs": [],
   "source": [
    "#How many genes have a p value <0.05\n",
    "\n"
   ]
  },
  {
   "cell_type": "code",
   "execution_count": null,
   "id": "45aa0445",
   "metadata": {},
   "outputs": [],
   "source": [
    "#How many genes have a log ratio >1 or <-1\n"
   ]
  },
  {
   "cell_type": "code",
   "execution_count": null,
   "id": "146019b1",
   "metadata": {},
   "outputs": [],
   "source": [
    "#How many genes satisfy both criteria "
   ]
  },
  {
   "cell_type": "code",
   "execution_count": null,
   "id": "2f7a55b7",
   "metadata": {},
   "outputs": [],
   "source": [
    "#Create a scatter plot where log ratio values are on the x-axis and p value is on the y axis \n",
    "#Take -log10 of pvalues before plotting them"
   ]
  },
  {
   "cell_type": "code",
   "execution_count": null,
   "id": "ea2ac770",
   "metadata": {},
   "outputs": [],
   "source": [
    "#Draw horizontal line where p value is 0.05, draw vertical lines st -1 and 1"
   ]
  }
 ],
 "metadata": {
  "kernelspec": {
   "display_name": "R 3.6.3",
   "language": "R",
   "name": "ir35"
  },
  "language_info": {
   "codemirror_mode": "r",
   "file_extension": ".r",
   "mimetype": "text/x-r-source",
   "name": "R",
   "pygments_lexer": "r",
   "version": "3.6.1"
  }
 },
 "nbformat": 4,
 "nbformat_minor": 5
}
